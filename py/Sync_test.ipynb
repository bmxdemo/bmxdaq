{
 "cells": [
  {
   "cell_type": "code",
   "execution_count": 1,
   "metadata": {
    "collapsed": true
   },
   "outputs": [],
   "source": [
    "import matplotlib.pyplot as plt\n",
    "import numpy as np"
   ]
  },
  {
   "cell_type": "code",
   "execution_count": 15,
   "metadata": {},
   "outputs": [],
   "source": [
    "nsamples = 10\n",
    "size = 2**27\n",
    "\n",
    "wfile = open(\"../data/sync/180302_1118.sync_test\")\n",
    "dat_type=[('ch1','i1'),('ch2','i1')]\n",
    "data=np.fromfile(wfile,dat_type)"
   ]
  },
  {
   "cell_type": "code",
   "execution_count": 16,
   "metadata": {},
   "outputs": [
    {
     "data": {
      "image/png": "[encoded data removed]",
      "text/plain": [
       "<matplotlib.figure.Figure at 0x7f5c6fc8c510>"
      ]
     },
     "metadata": {},
     "output_type": "display_data"
    }
   ],
   "source": [
    "size = 2**27 ##number of points to plot\n",
    "numPoints = size\n",
    "k = 0 ##double which sample to plot\n",
    "\n",
    "xx=np.arange(numPoints)\n",
    "plt.figure(1)\n",
    "plt.subplot(412)\n",
    "plt.plot(xx,data['ch2'][k*size :(k*size) +numPoints])\n",
    "plt.title(\"Card1 : CH 2\")\n",
    "\n",
    "\n",
    "plt.subplot(414)\n",
    "plt.plot(xx,data['ch2'][(k*size+1):(k*size+1)+numPoints])\n",
    "plt.title(\"Card2 : CH 2\")\n",
    "\n",
    "plt.show()\n"
   ]
  },
  {
   "cell_type": "code",
   "execution_count": 12,
   "metadata": {},
   "outputs": [
    {
     "name": "stdout",
     "output_type": "stream",
     "text": [
      "84847292\n",
      "83760122\n",
      "-1\n",
      "-1\n",
      "-1\n",
      "-1\n",
      "-1\n",
      "-1\n",
      "111105459\n",
      "110018289\n",
      "-1\n",
      "-1\n",
      "-1\n",
      "-1\n",
      "-1\n",
      "-1\n",
      "124234543\n",
      "123147373\n",
      "-1\n",
      "-1\n"
     ]
    }
   ],
   "source": [
    "nsamples = 10\n",
    "size = 2**27\n",
    "\n",
    "for i in range(10):\n",
    "    for j in range(2):\n",
    "        a = np.where(data['ch2'][(2*i+j)*size:(2*i+j+1)*size] > 10)\n",
    "        if(any(map(len,a))):\n",
    "            a = np.min(a)\n",
    "        else:\n",
    "            a = -1 \n",
    "        print(a)\n",
    "\n"
   ]
  },
  {
   "cell_type": "code",
   "execution_count": null,
   "metadata": {},
   "outputs": [],
   "source": [
    "delays = np.fromfile(\"out_delays\", sep=\" \")"
   ]
  },
  {
   "cell_type": "code",
   "execution_count": null,
   "metadata": {},
   "outputs": [],
   "source": [
    "hist = plt.hist(delays, bins = int(max(delays) - min(delays)), range= (-25, 25))\n",
    "plt.show()"
   ]
  },
  {
   "cell_type": "code",
   "execution_count": null,
   "metadata": {},
   "outputs": [],
   "source": [
    "np.mean(delays)"
   ]
  },
  {
   "cell_type": "code",
   "execution_count": 3,
   "metadata": {},
   "outputs": [],
   "source": [
    "peaks = []\n",
    "with open(\"out_peaks\") as f:\n",
    "    lines = f.readlines()\n",
    "    for line in lines:\n",
    "         peaks.append(np.fromstring(line, dtype = float, sep = \" \"))\n",
    "        "
   ]
  },
  {
   "cell_type": "code",
   "execution_count": 20,
   "metadata": {},
   "outputs": [
    {
     "data": {
      "image/png": "[encoded data removed]",
      "text/plain": [
       "<matplotlib.figure.Figure at 0x7f5c72161a50>"
      ]
     },
     "metadata": {},
     "output_type": "display_data"
    }
   ],
   "source": [
    "diff = np.zeros(0)\n",
    "for arr in peaks:\n",
    "    for i in range(len(arr)-2):\n",
    "        diff = np.append(diff, (arr[i+2] - arr[i+1]))\n",
    "h = plt.hist(diff)\n",
    "plt.show()"
   ]
  },
  {
   "cell_type": "code",
   "execution_count": 21,
   "metadata": {},
   "outputs": [
    {
     "data": {
      "text/plain": [
       "499.99999727099998"
      ]
     },
     "execution_count": 21,
     "metadata": {},
     "output_type": "execute_result"
    }
   ],
   "source": [
    "max(diff)"
   ]
  },
  {
   "cell_type": "markdown",
   "metadata": {},
   "source": [
    "min(diff)"
   ]
  },
  {
   "cell_type": "code",
   "execution_count": 22,
   "metadata": {},
   "outputs": [
    {
     "data": {
      "text/plain": [
       "496.24079454600002"
      ]
     },
     "execution_count": 22,
     "metadata": {},
     "output_type": "execute_result"
    }
   ],
   "source": [
    "min(diff)"
   ]
  },
  {
   "cell_type": "code",
   "execution_count": null,
   "metadata": {
    "collapsed": true
   },
   "outputs": [],
   "source": []
  }
 ],
 "metadata": {
  "kernelspec": {
   "display_name": "Python 2",
   "language": "python",
   "name": "python2"
  },
  "language_info": {
   "codemirror_mode": {
    "name": "ipython",
    "version": 2
   },
   "file_extension": ".py",
   "mimetype": "text/x-python",
   "name": "python",
   "nbconvert_exporter": "python",
   "pygments_lexer": "ipython2",
   "version": "2.7.14"
  }
 },
 "nbformat": 4,
 "nbformat_minor": 2
}
