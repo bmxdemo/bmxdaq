{
 "cells": [
  {
   "cell_type": "code",
   "execution_count": 1,
   "metadata": {
    "collapsed": true
   },
   "outputs": [],
   "source": [
    "import matplotlib.pyplot as plt\n",
    "import numpy as np"
   ]
  },
  {
   "cell_type": "code",
   "execution_count": 3,
   "metadata": {},
   "outputs": [],
   "source": [
    "wfile = open(\"../data/sync/180323_1124.sync_test\")\n",
    "dat_type=[('ch1','i1'),('ch2','i1')]\n",
    "data=np.fromfile(wfile,dat_type)"
   ]
  },
  {
   "cell_type": "code",
   "execution_count": null,
   "metadata": {
    "collapsed": true
   },
   "outputs": [],
   "source": []
  },
  {
   "cell_type": "code",
   "execution_count": 5,
   "metadata": {},
   "outputs": [
    {
     "data": {
      "image/png": "[encoded data removed]",
      "text/plain": [
       "<matplotlib.figure.Figure at 0x7f568ecd1d10>"
      ]
     },
     "metadata": {},
     "output_type": "display_data"
    }
   ],
   "source": [
    "size = 2**27 ##number of points to plot\n",
    "numPoints = size\n",
    "start = 0\n",
    "##k = 4 ##double which sample to plot\n",
    "\n",
    "k = 1\n",
    "\n",
    "xx=np.arange(numPoints)\n",
    "plt.figure(1)\n",
    "plt.subplot(412)\n",
    "plt.plot(xx,data['ch2'][2*k*size +start:(2* k*size)+start +numPoints])\n",
    "plt.title(\"Card1 : CH 2\")\n",
    "\n",
    "\n",
    "plt.subplot(414)\n",
    "plt.plot(xx,data['ch2'][(2*k+1) *size+ start:(2*k+1)*size+ start+ numPoints ])\n",
    "plt.title(\"Card2 : CH 2\")\n",
    "\n",
    "plt.show()\n"
   ]
  },
  {
   "cell_type": "code",
   "execution_count": null,
   "metadata": {
    "collapsed": true
   },
   "outputs": [],
   "source": []
  },
  {
   "cell_type": "code",
   "execution_count": 4,
   "metadata": {},
   "outputs": [
    {
     "name": "stdout",
     "output_type": "stream",
     "text": [
      "0 -1\n",
      "0 -1\n",
      "1 -1\n",
      "1 61082740\n",
      "2 -1\n",
      "2 -1\n",
      "3 -1\n",
      "3 -1\n",
      "4 98435066\n",
      "4 98429552\n"
     ]
    }
   ],
   "source": [
    "nsamples = 5\n",
    "size = 2**27\n",
    "\n",
    "for i in range(nsamples):\n",
    "    for j in range(2):\n",
    "        a = np.where(data['ch2'][(2*i+j)*size:(2*i+j+1)*size] > 10)\n",
    "        if(any(map(len,a))):\n",
    "            a = np.min(a)\n",
    "        else:\n",
    "            a = -1 \n",
    "        print i, a\n",
    "\n"
   ]
  },
  {
   "cell_type": "code",
   "execution_count": null,
   "metadata": {
    "collapsed": true
   },
   "outputs": [],
   "source": [
    "delays = np.fromfile(\"out_delays\", sep=\" \")"
   ]
  },
  {
   "cell_type": "code",
   "execution_count": null,
   "metadata": {
    "collapsed": true
   },
   "outputs": [],
   "source": [
    "print data['ch2'][11*size+106082329]"
   ]
  },
  {
   "cell_type": "code",
   "execution_count": null,
   "metadata": {
    "collapsed": true
   },
   "outputs": [],
   "source": [
    "hist = plt.hist(delays, bins = int(max(delays) - min(delays)), range= (-25, 25))\n",
    "plt.show()"
   ]
  },
  {
   "cell_type": "code",
   "execution_count": null,
   "metadata": {
    "collapsed": true
   },
   "outputs": [],
   "source": [
    "print np.mean(delays)\n",
    "print min(delays)\n",
    "print max(delays)"
   ]
  },
  {
   "cell_type": "code",
   "execution_count": null,
   "metadata": {
    "collapsed": true
   },
   "outputs": [],
   "source": [
    "peaks = []\n",
    "with open(\"out_peaks\") as f:\n",
    "    lines = f.readlines()\n",
    "    for line in lines:\n",
    "         peaks.append(np.fromstring(line, dtype = float, sep = \" \"))"
   ]
  },
  {
   "cell_type": "code",
   "execution_count": null,
   "metadata": {
    "collapsed": true
   },
   "outputs": [],
   "source": [
    "diff = np.zeros(0)\n",
    "for arr in peaks:\n",
    "    for i in range(len(arr)-1):\n",
    "        diff = np.append(diff, (arr[i+1] - arr[i]))\n",
    "h = plt.hist(diff)\n",
    "plt.show()"
   ]
  },
  {
   "cell_type": "code",
   "execution_count": null,
   "metadata": {
    "collapsed": true
   },
   "outputs": [],
   "source": [
    "max(diff)"
   ]
  },
  {
   "cell_type": "markdown",
   "metadata": {},
   "source": [
    "min(diff)"
   ]
  },
  {
   "cell_type": "code",
   "execution_count": null,
   "metadata": {
    "collapsed": true
   },
   "outputs": [],
   "source": [
    "min(diff)"
   ]
  },
  {
   "cell_type": "code",
   "execution_count": null,
   "metadata": {
    "collapsed": true
   },
   "outputs": [],
   "source": [
    "k = 14\n",
    "numPoints = 10000\n",
    "xx=np.arange(numPoints)\n",
    "plt.figure(1)\n",
    "plt.subplot(412)\n",
    "plt.plot(xx,data['ch2'][2*k*size:(2*k*size)+numPoints])\n",
    "plt.title(\"Card1 : CH 2\")\n",
    "\n",
    "\n",
    "plt.subplot(414)\n",
    "plt.plot(xx,data['ch2'][(2*k*size+1):(2*k*size+1)+numPoints])\n",
    "plt.title(\"Card2 : CH 2\")\n",
    "\n",
    "plt.show()"
   ]
  },
  {
   "cell_type": "code",
   "execution_count": null,
   "metadata": {
    "collapsed": true
   },
   "outputs": [],
   "source": []
  }
 ],
 "metadata": {
  "kernelspec": {
   "display_name": "Python 2",
   "language": "python",
   "name": "python2"
  },
  "language_info": {
   "codemirror_mode": {
    "name": "ipython",
    "version": 2
   },
   "file_extension": ".py",
   "mimetype": "text/x-python",
   "name": "python",
   "nbconvert_exporter": "python",
   "pygments_lexer": "ipython2",
   "version": "2.7.14"
  }
 },
 "nbformat": 4,
 "nbformat_minor": 2
}
